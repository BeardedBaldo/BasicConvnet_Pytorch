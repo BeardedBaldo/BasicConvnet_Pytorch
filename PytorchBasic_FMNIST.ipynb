{
  "nbformat": 4,
  "nbformat_minor": 0,
  "metadata": {
    "colab": {
      "name": "PytorchBasic_FMNIST.ipynb",
      "provenance": [],
      "collapsed_sections": [],
      "authorship_tag": "ABX9TyO5s49SSXx+wobwU7u3UsxM",
      "include_colab_link": true
    },
    "kernelspec": {
      "name": "python3",
      "display_name": "Python 3"
    }
  },
  "cells": [
    {
      "cell_type": "markdown",
      "metadata": {
        "id": "view-in-github",
        "colab_type": "text"
      },
      "source": [
        "<a href=\"https://colab.research.google.com/github/BeardedBaldo/BasicConvnet_Pytorch/blob/main/PytorchBasic_FMNIST.ipynb\" target=\"_parent\"><img src=\"https://colab.research.google.com/assets/colab-badge.svg\" alt=\"Open In Colab\"/></a>"
      ]
    },
    {
      "cell_type": "code",
      "metadata": {
        "id": "-O24JngtcqL4"
      },
      "source": [
        "### loading libraries\n",
        "import torch \n",
        "import torch.nn as nn\n",
        "import torchvision as tv\n",
        "import torch.nn.functional as func\n",
        "import numpy as np\n",
        "import matplotlib.pyplot as plt\n",
        "import torch.optim as optim\n",
        "import torchvision.transforms as transforms"
      ],
      "execution_count": 65,
      "outputs": []
    },
    {
      "cell_type": "code",
      "metadata": {
        "id": "VqkwTXGDdgb8"
      },
      "source": [
        "### load datasets\n",
        "\n",
        "## transform - normalize and convert to tensor\n",
        "transform = transforms.Compose([transforms.ToTensor(), transforms.Normalize((0.5), (0.5))])\n",
        "\n",
        "## load traindata\n",
        "trainSet = tv.datasets.FashionMNIST(root = './data/', train = True, transform=transform, download = True)\n",
        "trainLoader = torch.utils.data.DataLoader(trainSet, batch_size=5, num_workers=2)\n",
        "\n",
        "## load test data\n",
        "testSet = tv.datasets.FashionMNIST(root = './data/', train = False, transform=transform, download = True)\n",
        "testLoader = torch.utils.data.DataLoader(testSet, batch_size=5, num_workers=2)\n"
      ],
      "execution_count": 66,
      "outputs": []
    },
    {
      "cell_type": "code",
      "metadata": {
        "id": "Sx-Hv5tYhn0T",
        "outputId": "89a323cd-a3f6-405d-cd70-f557a1d04d7a",
        "colab": {
          "base_uri": "https://localhost:8080/",
          "height": 138
        }
      },
      "source": [
        "### view and load images\n",
        "classes = ['t-shirt/top', 'trouser', 'pullover', 'dress', 'coat', 'sandal',\n",
        "           'shirt', 'sneaker', 'bag', 'ankle boot']\n",
        "\n",
        "def showImage(image):\n",
        "  image = image*0.5 + 0.5 \n",
        "  plt.imshow(np.transpose(image.numpy(), (1,2,0)))\n",
        "  plt.show()\n",
        "\n",
        "dataiter = iter(trainLoader)\n",
        "images, labels = dataiter.next()\n",
        "showImage(tv.utils.make_grid(images))\n",
        "print(\"Labels: \", \" \".join([classes[labels[i]] for i in range(5)]))"
      ],
      "execution_count": 67,
      "outputs": [
        {
          "output_type": "display_data",
          "data": {
            "image/png": "[encoded data removed]",
            "text/plain": [
              "<Figure size 432x288 with 1 Axes>"
            ]
          },
          "metadata": {
            "tags": [],
            "needs_background": "light"
          }
        },
        {
          "output_type": "stream",
          "text": [
            "Labels:  ankle boot t-shirt/top t-shirt/top dress t-shirt/top\n"
          ],
          "name": "stdout"
        }
      ]
    },
    {
      "cell_type": "code",
      "metadata": {
        "id": "RSEw_bKaj8VE"
      },
      "source": [
        "### define convnet model\n",
        "\n",
        "class fmnistConvnet(nn.Module):\n",
        "  def __init__(self):\n",
        "    super(fmnistConvnet, self).__init__()\n",
        "    self.conv1 = nn.Conv2d(1, 16, 2)\n",
        "    self.pool = nn.MaxPool2d(2, 2)\n",
        "    self.conv2 = nn.Conv2d(16, 32, 2)\n",
        "    self.conv3 = nn.Conv2d(32, 64, 2)\n",
        "    self.linear1 = nn.Linear(64 * 5 * 5, 256)\n",
        "    self.linear2 = nn.Linear(256, 128)\n",
        "    self.linear3 = nn.Linear(128, 64)\n",
        "    self.linear4 = nn.Linear(64, 10)\n",
        "\n",
        "  def forward(self, x):\n",
        "    x = self.pool(func.relu(self.conv1(x)))\n",
        "    x = self.pool(func.relu(self.conv2(x)))\n",
        "    x = func.relu(self.conv3(x))\n",
        "    x = x.view(-1, 64 * 5 * 5)\n",
        "    x = func.relu(self.linear1(x))\n",
        "    x = func.relu(self.linear2(x))\n",
        "    x = func.relu(self.linear3(x))\n",
        "    x = func.softmax(self.linear4(x))\n",
        "\n",
        "    return x\n",
        "\n",
        "model = fmnistConvnet()"
      ],
      "execution_count": 81,
      "outputs": []
    },
    {
      "cell_type": "code",
      "metadata": {
        "id": "EiSb1pXWquIz"
      },
      "source": [
        "### define optimizers and losses\n",
        "optimizer = optim.Adam(model.parameters(), lr = 0.001)\n",
        "criterion = nn.CrossEntropyLoss()"
      ],
      "execution_count": 82,
      "outputs": []
    },
    {
      "cell_type": "code",
      "metadata": {
        "id": "sEiAVAClq_0Z",
        "outputId": "dc3c6412-2916-415c-813b-d48a83da8f87",
        "colab": {
          "base_uri": "https://localhost:8080/",
          "height": 489
        }
      },
      "source": [
        "epochs = 2\n",
        "\n",
        "for epoch in range(epochs):\n",
        "  runningLoss = 0\n",
        "  for i, data in enumerate(trainLoader, 0):\n",
        "    input, label = data\n",
        "\n",
        "    optimizer.zero_grad()\n",
        "\n",
        "    output = model(input)\n",
        "    loss = criterion(output, label)\n",
        "    loss.backward()\n",
        "    optimizer.step()\n",
        "\n",
        "    runningLoss += loss.item()\n",
        "    if i % 1000 == 999:    # print every 2000 mini-batches\n",
        "        print('[%d, %5d] loss: %.3f' %\n",
        "              (epoch + 1, i + 1, runningLoss / 1000))\n",
        "        runningLoss = 0.0\n",
        "\n",
        "print(\"finished training\")"
      ],
      "execution_count": 83,
      "outputs": [
        {
          "output_type": "stream",
          "text": [
            "/usr/local/lib/python3.6/dist-packages/ipykernel_launcher.py:23: UserWarning: Implicit dimension choice for softmax has been deprecated. Change the call to include dim=X as an argument.\n"
          ],
          "name": "stderr"
        },
        {
          "output_type": "stream",
          "text": [
            "[1,  1000] loss: 1.917\n",
            "[1,  2000] loss: 1.790\n",
            "[1,  3000] loss: 1.756\n",
            "[1,  4000] loss: 1.727\n",
            "[1,  5000] loss: 1.717\n",
            "[1,  6000] loss: 1.706\n",
            "[1,  7000] loss: 1.700\n",
            "[1,  8000] loss: 1.702\n",
            "[1,  9000] loss: 1.703\n",
            "[1, 10000] loss: 1.703\n",
            "[1, 11000] loss: 1.714\n",
            "[1, 12000] loss: 1.711\n",
            "[2,  1000] loss: 1.709\n",
            "[2,  2000] loss: 1.743\n",
            "[2,  3000] loss: 1.740\n",
            "[2,  4000] loss: 1.735\n",
            "[2,  5000] loss: 1.688\n",
            "[2,  6000] loss: 1.693\n",
            "[2,  7000] loss: 1.751\n",
            "[2,  8000] loss: 1.706\n",
            "[2,  9000] loss: 1.748\n",
            "[2, 10000] loss: 1.745\n",
            "[2, 11000] loss: 1.780\n",
            "[2, 12000] loss: 1.761\n",
            "finished training\n"
          ],
          "name": "stdout"
        }
      ]
    },
    {
      "cell_type": "code",
      "metadata": {
        "id": "Jz8QQL6oYHjd",
        "outputId": "69349146-7877-4461-8a20-0d3810f4b621",
        "colab": {
          "base_uri": "https://localhost:8080/",
          "height": 72
        }
      },
      "source": [
        "total = 0\n",
        "correct = 0\n",
        "\n",
        "with torch.no_grad():\n",
        "  for data in testLoader:\n",
        "    input, label = data\n",
        "    outputs = model(input)\n",
        "    _, predicted = torch.max(outputs, 1)\n",
        "    total += label.size(0)\n",
        "    correct += (predicted == label).sum().item()\n",
        "\n",
        "print(\"Accuracy of the model is: \", (correct/total) * 100)"
      ],
      "execution_count": 75,
      "outputs": [
        {
          "output_type": "stream",
          "text": [
            "/usr/local/lib/python3.6/dist-packages/ipykernel_launcher.py:23: UserWarning: Implicit dimension choice for softmax has been deprecated. Change the call to include dim=X as an argument.\n"
          ],
          "name": "stderr"
        },
        {
          "output_type": "stream",
          "text": [
            "Accuracy of the model is:  70.37\n"
          ],
          "name": "stdout"
        }
      ]
    }
  ]
}