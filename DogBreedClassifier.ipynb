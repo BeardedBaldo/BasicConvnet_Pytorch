{
  "nbformat": 4,
  "nbformat_minor": 0,
  "metadata": {
    "colab": {
      "name": "DogBreedClassifier.ipynb",
      "provenance": [],
      "collapsed_sections": [],
      "authorship_tag": "ABX9TyMj1O48drqMFDz92MrvTbfw",
      "include_colab_link": true
    },
    "kernelspec": {
      "name": "python3",
      "display_name": "Python 3"
    },
    "accelerator": "GPU"
  },
  "cells": [
    {
      "cell_type": "markdown",
      "metadata": {
        "id": "view-in-github",
        "colab_type": "text"
      },
      "source": [
        "<a href=\"https://colab.research.google.com/github/BeardedBaldo/BasicConvnet_Pytorch/blob/main/DogBreedClassifier.ipynb\" target=\"_parent\"><img src=\"https://colab.research.google.com/assets/colab-badge.svg\" alt=\"Open In Colab\"/></a>"
      ]
    },
    {
      "cell_type": "code",
      "metadata": {
        "id": "-_GKct3RQfU6"
      },
      "source": [
        "import requests\n",
        "import tarfile\n",
        "import os\n",
        "from PIL import Image\n",
        "import time\n",
        "import torch\n",
        "import torch.nn as nn\n",
        "import torch.nn.functional as func\n",
        "import torch.optim as optim\n",
        "import torchvision.transforms as transforms\n",
        "import torchvision.models as models\n",
        "import copy\n",
        "import matplotlib.pyplot as plt\n",
        "import numpy as np\n",
        "from sklearn.model_selection import train_test_split"
      ],
      "execution_count": 1,
      "outputs": []
    },
    {
      "cell_type": "code",
      "metadata": {
        "id": "Oj9LCVbNTPLI",
        "outputId": "3746613b-166f-4f74-b564-d50c8c897029",
        "colab": {
          "base_uri": "https://localhost:8080/"
        }
      },
      "source": [
        "## download stanford dog dataset\n",
        "url = \"http://vision.stanford.edu/aditya86/ImageNetDogs/images.tar\"\n",
        "r = requests.get(url, allow_redirects = True) \n",
        "open(\"images.tar\", \"wb\").write(r.content)"
      ],
      "execution_count": 3,
      "outputs": [
        {
          "output_type": "execute_result",
          "data": {
            "text/plain": [
              "793579520"
            ]
          },
          "metadata": {
            "tags": []
          },
          "execution_count": 3
        }
      ]
    },
    {
      "cell_type": "code",
      "metadata": {
        "id": "D4ErQ7MyTjXr"
      },
      "source": [
        "### untaring the dataset\n",
        "tar = tarfile.open(\"images.tar\")\n",
        "tar.extractall(\"./\")\n",
        "tar.close()"
      ],
      "execution_count": 4,
      "outputs": []
    },
    {
      "cell_type": "code",
      "metadata": {
        "id": "iFdLiRdJuEWw"
      },
      "source": [
        "### check for gpus and assign to device\n",
        "device = torch.device(\"cuda\" if torch.cuda.is_available() else \"cpu\")"
      ],
      "execution_count": 3,
      "outputs": []
    },
    {
      "cell_type": "code",
      "metadata": {
        "id": "0s4z3Lb7qaNP"
      },
      "source": [
        "### image loader function and transform object\n",
        "\n",
        "imageSize = (224, 224) if torch.cuda.is_available() else (128, 128)\n",
        "\n",
        "loader = transforms.Compose([transforms.Resize(imageSize), \n",
        "                             transforms.ToTensor(),\n",
        "                             transforms.Normalize((0.485, 0.456, 0.406),\n",
        "                                                  (0.229, 0.224, 0.225))\n",
        "                             ])\n",
        "\n",
        "def imageLoader(imagePath):\n",
        "  image = Image.open(imagePath)\n",
        "  image = loader(image).unsqueeze(0)\n",
        "  return image.to(device, torch.float)\n"
      ],
      "execution_count": 4,
      "outputs": []
    },
    {
      "cell_type": "code",
      "metadata": {
        "id": "A0P4gWPAtK8c",
        "outputId": "21fdf062-79a8-428a-a48c-a9f52fb7acc3",
        "colab": {
          "base_uri": "https://localhost:8080/"
        }
      },
      "source": [
        "samplePath = './Images/n02085620-Chihuahua/n02085620_10074.jpg'\n",
        "\n",
        "sampleImage = imageLoader(samplePath)\n",
        "\n",
        "print(type(sampleImage))\n",
        "print(sampleImage.size())"
      ],
      "execution_count": 5,
      "outputs": [
        {
          "output_type": "stream",
          "text": [
            "<class 'torch.Tensor'>\n",
            "torch.Size([1, 3, 224, 224])\n"
          ],
          "name": "stdout"
        }
      ]
    },
    {
      "cell_type": "code",
      "metadata": {
        "id": "UD8WlN2r-VAM"
      },
      "source": [
        "### variable initialization\n",
        "dataDir = \"./Images\"\n",
        "testSplit = 0.2\n",
        "valSplit = 0.2\n",
        "epochs = 15\n",
        "featureExtract = True\n",
        "modelName = \"vgg11\""
      ],
      "execution_count": 29,
      "outputs": []
    },
    {
      "cell_type": "code",
      "metadata": {
        "id": "7HfNfNXZUklD",
        "outputId": "08246f84-0e21-42b0-802b-bd020b94f899",
        "colab": {
          "base_uri": "https://localhost:8080/"
        }
      },
      "source": [
        "### load data and split into train and test\n",
        "\n",
        "## delete 2933 from Shetland sheeps since its a png\n",
        "\n",
        "dataDict = {\"train\": {\n",
        "    \"images\": [],\n",
        "    \"labels\": []\n",
        "}, \"validation\": {\n",
        "    \"images\": [],\n",
        "    \"labels\": []    \n",
        "}}\n",
        "trainLabels = []\n",
        "trainImages = []\n",
        "mapping = []\n",
        "testLabels = []\n",
        "testImages = []\n",
        "\n",
        "sampleList = ['./Images/n02108000-EntleBucher', './Images/n02111889-Samoyed']\n",
        "\n",
        "for i, (root, dirs, files) in enumerate(os.walk(dataDir)):\n",
        "  if root != dataDir and i<80:# and root in sampleList:    ### add root in sampleList condition only for testing\n",
        "    name = root.split(\"/\")[-1].split(\"-\")[-1]\n",
        "    mapping.append(name)\n",
        "    print(root)\n",
        "    print(name, \" : \", i)\n",
        "    nFiles = len(files)\n",
        "    for j, f in enumerate(files):\n",
        "      filePath = os.path.join(root, f)\n",
        "      image = imageLoader(filePath)\n",
        "      if j < (nFiles * (1 - testSplit)):\n",
        "        trainImages.append(image)\n",
        "        trainLabels.append(i-1)\n",
        "      else:\n",
        "        testImages.append(image)\n",
        "        testLabels.append(i-1)\n",
        "      del image\n",
        "\n",
        "trainData = {}\n",
        "trainData[\"trainImages\"] = trainImages\n",
        "trainData[\"trainLabels\"] = trainLabels\n",
        "nClasses = len(mapping)\n",
        "    \n",
        "print(trainData.keys())"
      ],
      "execution_count": 7,
      "outputs": [
        {
          "output_type": "stream",
          "text": [
            "./Images/n02108422-bull_mastiff\n",
            "bull_mastiff  :  1\n",
            "./Images/n02113978-Mexican_hairless\n",
            "Mexican_hairless  :  2\n",
            "./Images/n02087046-toy_terrier\n",
            "toy_terrier  :  3\n",
            "./Images/n02085936-Maltese_dog\n",
            "Maltese_dog  :  4\n",
            "./Images/n02098286-West_Highland_white_terrier\n",
            "West_Highland_white_terrier  :  5\n",
            "./Images/n02089973-English_foxhound\n",
            "English_foxhound  :  6\n",
            "./Images/n02111889-Samoyed\n",
            "Samoyed  :  7\n",
            "./Images/n02097047-miniature_schnauzer\n",
            "miniature_schnauzer  :  8\n",
            "./Images/n02093991-Irish_terrier\n",
            "Irish_terrier  :  9\n",
            "./Images/n02094433-Yorkshire_terrier\n",
            "Yorkshire_terrier  :  10\n",
            "./Images/n02097209-standard_schnauzer\n",
            "standard_schnauzer  :  11\n",
            "./Images/n02098413-Lhasa\n",
            "Lhasa  :  12\n",
            "./Images/n02096585-Boston_bull\n",
            "Boston_bull  :  13\n",
            "./Images/n02113624-toy_poodle\n",
            "toy_poodle  :  14\n",
            "./Images/n02100236-German_short-haired_pointer\n",
            "haired_pointer  :  15\n",
            "./Images/n02105251-briard\n",
            "briard  :  16\n",
            "./Images/n02110958-pug\n",
            "pug  :  17\n",
            "./Images/n02113712-miniature_poodle\n",
            "miniature_poodle  :  18\n",
            "./Images/n02094114-Norfolk_terrier\n",
            "Norfolk_terrier  :  19\n",
            "./Images/n02108089-boxer\n",
            "boxer  :  20\n",
            "./Images/n02107908-Appenzeller\n",
            "Appenzeller  :  21\n",
            "./Images/n02091467-Norwegian_elkhound\n",
            "Norwegian_elkhound  :  22\n",
            "./Images/n02107683-Bernese_mountain_dog\n",
            "Bernese_mountain_dog  :  23\n",
            "./Images/n02097298-Scotch_terrier\n",
            "Scotch_terrier  :  24\n",
            "./Images/n02086240-Shih-Tzu\n",
            "Tzu  :  25\n",
            "./Images/n02105162-malinois\n",
            "malinois  :  26\n",
            "./Images/n02112706-Brabancon_griffon\n",
            "Brabancon_griffon  :  27\n",
            "./Images/n02099712-Labrador_retriever\n",
            "Labrador_retriever  :  28\n",
            "./Images/n02106382-Bouvier_des_Flandres\n",
            "Bouvier_des_Flandres  :  29\n",
            "./Images/n02101006-Gordon_setter\n",
            "Gordon_setter  :  30\n",
            "./Images/n02110806-basenji\n",
            "basenji  :  31\n",
            "./Images/n02088632-bluetick\n",
            "bluetick  :  32\n",
            "./Images/n02102318-cocker_spaniel\n",
            "cocker_spaniel  :  33\n",
            "./Images/n02089867-Walker_hound\n",
            "Walker_hound  :  34\n",
            "./Images/n02088466-bloodhound\n",
            "bloodhound  :  35\n",
            "./Images/n02104029-kuvasz\n",
            "kuvasz  :  36\n",
            "./Images/n02096437-Dandie_Dinmont\n",
            "Dandie_Dinmont  :  37\n",
            "./Images/n02086079-Pekinese\n",
            "Pekinese  :  38\n",
            "./Images/n02089078-black-and-tan_coonhound\n",
            "tan_coonhound  :  39\n",
            "./Images/n02096294-Australian_terrier\n",
            "Australian_terrier  :  40\n",
            "./Images/n02102480-Sussex_spaniel\n",
            "Sussex_spaniel  :  41\n",
            "./Images/n02093428-American_Staffordshire_terrier\n",
            "American_Staffordshire_terrier  :  42\n",
            "./Images/n02100877-Irish_setter\n",
            "Irish_setter  :  43\n",
            "./Images/n02102177-Welsh_springer_spaniel\n",
            "Welsh_springer_spaniel  :  44\n",
            "./Images/n02111129-Leonberg\n",
            "Leonberg  :  45\n",
            "./Images/n02106166-Border_collie\n",
            "Border_collie  :  46\n",
            "./Images/n02088094-Afghan_hound\n",
            "Afghan_hound  :  47\n",
            "./Images/n02107142-Doberman\n",
            "Doberman  :  48\n",
            "./Images/n02102040-English_springer\n",
            "English_springer  :  49\n",
            "./Images/n02109047-Great_Dane\n",
            "Great_Dane  :  50\n",
            "./Images/n02085782-Japanese_spaniel\n",
            "Japanese_spaniel  :  51\n",
            "./Images/n02105641-Old_English_sheepdog\n",
            "Old_English_sheepdog  :  52\n",
            "./Images/n02115641-dingo\n",
            "dingo  :  53\n",
            "./Images/n02100735-English_setter\n",
            "English_setter  :  54\n",
            "./Images/n02101388-Brittany_spaniel\n",
            "Brittany_spaniel  :  55\n",
            "./Images/n02113186-Cardigan\n",
            "Cardigan  :  56\n",
            "./Images/n02091032-Italian_greyhound\n",
            "Italian_greyhound  :  57\n",
            "./Images/n02091635-otterhound\n",
            "otterhound  :  58\n",
            "./Images/n02109525-Saint_Bernard\n",
            "Saint_Bernard  :  59\n",
            "./Images/n02097474-Tibetan_terrier\n",
            "Tibetan_terrier  :  60\n",
            "./Images/n02105056-groenendael\n",
            "groenendael  :  61\n",
            "./Images/n02112137-chow\n",
            "chow  :  62\n",
            "./Images/n02106550-Rottweiler\n",
            "Rottweiler  :  63\n",
            "./Images/n02099601-golden_retriever\n",
            "golden_retriever  :  64\n",
            "./Images/n02115913-dhole\n",
            "dhole  :  65\n",
            "./Images/n02107574-Greater_Swiss_Mountain_dog\n",
            "Greater_Swiss_Mountain_dog  :  66\n",
            "./Images/n02090379-redbone\n",
            "redbone  :  67\n",
            "./Images/n02086646-Blenheim_spaniel\n",
            "Blenheim_spaniel  :  68\n",
            "./Images/n02106662-German_shepherd\n",
            "German_shepherd  :  69\n",
            "./Images/n02097658-silky_terrier\n",
            "silky_terrier  :  70\n",
            "./Images/n02108551-Tibetan_mastiff\n",
            "Tibetan_mastiff  :  71\n",
            "./Images/n02106030-collie\n",
            "collie  :  72\n",
            "./Images/n02099429-curly-coated_retriever\n",
            "coated_retriever  :  73\n",
            "./Images/n02100583-vizsla\n",
            "vizsla  :  74\n",
            "./Images/n02110185-Siberian_husky\n",
            "Siberian_husky  :  75\n",
            "./Images/n02105412-kelpie\n",
            "kelpie  :  76\n",
            "./Images/n02104365-schipperke\n",
            "schipperke  :  77\n",
            "./Images/n02110627-affenpinscher\n",
            "affenpinscher  :  78\n",
            "./Images/n02091134-whippet\n",
            "whippet  :  79\n",
            "dict_keys(['trainImages', 'trainLabels'])\n"
          ],
          "name": "stdout"
        }
      ]
    },
    {
      "cell_type": "code",
      "metadata": {
        "id": "KHQjpP8-izmY"
      },
      "source": [
        "### train validation split \n",
        "trainImages, validationImages, trainLabels, validationLabels = train_test_split(trainImages, trainLabels, test_size = valSplit)\n",
        "dataDict[\"train\"][\"images\"] = trainImages\n",
        "dataDict[\"validation\"][\"images\"] = validationImages\n",
        "dataDict[\"train\"][\"labels\"] = trainLabels\n",
        "dataDict[\"validation\"][\"labels\"] = validationLabels"
      ],
      "execution_count": 8,
      "outputs": []
    },
    {
      "cell_type": "code",
      "metadata": {
        "id": "c9XqHFQN_ZK0"
      },
      "source": [
        "### set requires_grad for model parameters\n",
        "\n",
        "def setParameterRequiresGrad(model, featureExract):\n",
        "  if featureExtract:\n",
        "    for param in model.parameters():\n",
        "      param.requires_grad = False"
      ],
      "execution_count": 19,
      "outputs": []
    },
    {
      "cell_type": "code",
      "metadata": {
        "id": "w8XyMzsLcaHZ",
        "outputId": "d570261d-f1cf-40a0-f51a-f2a376932d8f",
        "colab": {
          "base_uri": "https://localhost:8080/"
        }
      },
      "source": [
        "### model initialization\n",
        "\n",
        "def initializeModel(modelName, nClasses, featureExtract, \n",
        "                    use_pretrained = True):\n",
        "  modelFt = None\n",
        "  inputSize = 0\n",
        "\n",
        "  if modelName == \"resnet\":\n",
        "    modelFt = models.resnet50(pretrained = use_pretrained)\n",
        "    setParameterRequiresGrad(modelFt, featureExtract)\n",
        "    nFeatures = modelFt.fc.in_features\n",
        "    modelFt.fc = nn.Linear(nFeatures, nClasses)\n",
        "    inputSize = 224\n",
        "\n",
        "  elif modelName == \"vgg11\":\n",
        "    modelFt = models.vgg11_bn(pretrained=use_pretrained)\n",
        "    setParameterRequiresGrad(modelFt, featureExtract)\n",
        "    nFeatures = modelFt.classifier[6].in_features\n",
        "    modelFt.classifier[6] = nn.Linear(nFeatures, nClasses)\n",
        "    inputSize = 224\n",
        "\n",
        "  elif modelName == \"inception\":\n",
        "    modelFt = models.inception_v3(pretrained = use_pretrained)\n",
        "    setParameterRequiresGrad(modelFt, featureExtract)\n",
        "    nFeatures = modelFt.AuxLogits.fc.in_features\n",
        "    modelFt.AuxLogits.fc = nn.Linear(nFeatures, nClasses)\n",
        "    nFeatures = modelFt.fc.in_features\n",
        "    modelFt.fc = nn.Linear(nFeatures, nClasses)\n",
        "    inputSize = 299\n",
        "\n",
        "  else:\n",
        "    print(\"Invalid model name, exiting...\")\n",
        "    exit()\n",
        "\n",
        "  return modelFt, inputSize \n",
        "\n",
        "modelFt, inputSize = initializeModel(modelName, nClasses,\n",
        "                                     featureExtract)\n",
        "print(modelFt)"
      ],
      "execution_count": 30,
      "outputs": [
        {
          "output_type": "stream",
          "text": [
            "VGG(\n",
            "  (features): Sequential(\n",
            "    (0): Conv2d(3, 64, kernel_size=(3, 3), stride=(1, 1), padding=(1, 1))\n",
            "    (1): BatchNorm2d(64, eps=1e-05, momentum=0.1, affine=True, track_running_stats=True)\n",
            "    (2): ReLU(inplace=True)\n",
            "    (3): MaxPool2d(kernel_size=2, stride=2, padding=0, dilation=1, ceil_mode=False)\n",
            "    (4): Conv2d(64, 128, kernel_size=(3, 3), stride=(1, 1), padding=(1, 1))\n",
            "    (5): BatchNorm2d(128, eps=1e-05, momentum=0.1, affine=True, track_running_stats=True)\n",
            "    (6): ReLU(inplace=True)\n",
            "    (7): MaxPool2d(kernel_size=2, stride=2, padding=0, dilation=1, ceil_mode=False)\n",
            "    (8): Conv2d(128, 256, kernel_size=(3, 3), stride=(1, 1), padding=(1, 1))\n",
            "    (9): BatchNorm2d(256, eps=1e-05, momentum=0.1, affine=True, track_running_stats=True)\n",
            "    (10): ReLU(inplace=True)\n",
            "    (11): Conv2d(256, 256, kernel_size=(3, 3), stride=(1, 1), padding=(1, 1))\n",
            "    (12): BatchNorm2d(256, eps=1e-05, momentum=0.1, affine=True, track_running_stats=True)\n",
            "    (13): ReLU(inplace=True)\n",
            "    (14): MaxPool2d(kernel_size=2, stride=2, padding=0, dilation=1, ceil_mode=False)\n",
            "    (15): Conv2d(256, 512, kernel_size=(3, 3), stride=(1, 1), padding=(1, 1))\n",
            "    (16): BatchNorm2d(512, eps=1e-05, momentum=0.1, affine=True, track_running_stats=True)\n",
            "    (17): ReLU(inplace=True)\n",
            "    (18): Conv2d(512, 512, kernel_size=(3, 3), stride=(1, 1), padding=(1, 1))\n",
            "    (19): BatchNorm2d(512, eps=1e-05, momentum=0.1, affine=True, track_running_stats=True)\n",
            "    (20): ReLU(inplace=True)\n",
            "    (21): MaxPool2d(kernel_size=2, stride=2, padding=0, dilation=1, ceil_mode=False)\n",
            "    (22): Conv2d(512, 512, kernel_size=(3, 3), stride=(1, 1), padding=(1, 1))\n",
            "    (23): BatchNorm2d(512, eps=1e-05, momentum=0.1, affine=True, track_running_stats=True)\n",
            "    (24): ReLU(inplace=True)\n",
            "    (25): Conv2d(512, 512, kernel_size=(3, 3), stride=(1, 1), padding=(1, 1))\n",
            "    (26): BatchNorm2d(512, eps=1e-05, momentum=0.1, affine=True, track_running_stats=True)\n",
            "    (27): ReLU(inplace=True)\n",
            "    (28): MaxPool2d(kernel_size=2, stride=2, padding=0, dilation=1, ceil_mode=False)\n",
            "  )\n",
            "  (avgpool): AdaptiveAvgPool2d(output_size=(7, 7))\n",
            "  (classifier): Sequential(\n",
            "    (0): Linear(in_features=25088, out_features=4096, bias=True)\n",
            "    (1): ReLU(inplace=True)\n",
            "    (2): Dropout(p=0.5, inplace=False)\n",
            "    (3): Linear(in_features=4096, out_features=4096, bias=True)\n",
            "    (4): ReLU(inplace=True)\n",
            "    (5): Dropout(p=0.5, inplace=False)\n",
            "    (6): Linear(in_features=4096, out_features=79, bias=True)\n",
            "  )\n",
            ")\n"
          ],
          "name": "stdout"
        }
      ]
    },
    {
      "cell_type": "code",
      "metadata": {
        "id": "hIcA9SuFeoro",
        "outputId": "f167661d-a24f-46ff-b715-ebdfdc9fcf68",
        "colab": {
          "base_uri": "https://localhost:8080/"
        }
      },
      "source": [
        "### model GPU initialization, optimizer initialization\n",
        "\n",
        "## send model to GPU\n",
        "modelFt = modelFt.to(device)\n",
        "\n",
        "\n",
        "## print parameters to learn\n",
        "print(\"Parameters to learn\")\n",
        "if featureExtract:\n",
        "  paramsUpdate = []\n",
        "  for name, param in modelFt.named_parameters():\n",
        "    if param.requires_grad == True:\n",
        "      paramsUpdate.append(param)\n",
        "      print(\"\\t\", name)\n",
        "else:\n",
        "  paramsUpdate = modelFt.parameters()\n",
        "  for name, param in modelFt.named_parameters():\n",
        "    if param.requires_grad == True:\n",
        "      print(\"\\t\", name)\n",
        "\n",
        "\n",
        "## initialize optimizer\n",
        "optimizerFt = optim.Adam(paramsUpdate, lr = 0.001) "
      ],
      "execution_count": 31,
      "outputs": [
        {
          "output_type": "stream",
          "text": [
            "Parameters to learn\n",
            "\t classifier.6.weight\n",
            "\t classifier.6.bias\n"
          ],
          "name": "stdout"
        }
      ]
    },
    {
      "cell_type": "code",
      "metadata": {
        "id": "bj_8-zkNlF0g"
      },
      "source": [
        "### model training function\n",
        "\n",
        "def trainModel(model, trainData, criterion, optimizer,\n",
        "               nEpochs = 10, isInception = False):\n",
        "  start = time.time()\n",
        "\n",
        "  trainAccHistory = []\n",
        "  valAccHistory = []\n",
        "\n",
        "  bestModelWts = copy.deepcopy(model.state_dict())\n",
        "  bestAcc = 0\n",
        "\n",
        "  for epoch in range(nEpochs):\n",
        "    print(f'Epoch {epoch}/{nEpochs - 1}')\n",
        "    print('-' * 10)\n",
        "\n",
        "    for phase in dataDict.keys():\n",
        "      if phase == \"train\":\n",
        "        model.train()\n",
        "      else:\n",
        "        model.eval()\n",
        "\n",
        "      runningLoss = 0.0\n",
        "      runningCorrects = 0\n",
        "\n",
        "      inputs = dataDict[phase][\"images\"]\n",
        "      labels = dataDict[phase][\"labels\"]\n",
        "\n",
        "      for i, input in enumerate(inputs):\n",
        "        input = input.to(device)\n",
        "        label = []\n",
        "        label.append(labels[i])\n",
        "        label = torch.tensor(np.array(label)).to(device)\n",
        "        \n",
        "        ##zero gradients\n",
        "        optimizer.zero_grad()\n",
        "\n",
        "        with torch.set_grad_enabled(phase == \"train\"):\n",
        "\n",
        "          if isInception:\n",
        "            output, auxOutput = model(input)\n",
        "            mainLoss = criterion(output, label)\n",
        "            auxLoss = criterion(auxOutput, label)\n",
        "            loss = mainLoss + 0.4 * auxLoss\n",
        "          else:\n",
        "            output = model(input)\n",
        "            loss = criterion(output, label)\n",
        "\n",
        "          _, prediction = torch.max(output, 1)\n",
        "\n",
        "          if phase == \"train\":\n",
        "            loss.backward()\n",
        "            optimizer.step()\n",
        "\n",
        "        runningLoss += loss.item() * input.size(0)\n",
        "        runningCorrects += torch.sum(prediction == label)\n",
        "\n",
        "      epochLoss = runningLoss / (len(inputs))\n",
        "      epochAcc = runningCorrects.double() / (len(inputs))\n",
        "      \n",
        "      print(\"{} loss: {:4f}, {} accuracy: {:4f}\".format(phase,\n",
        "                                                        epochLoss,\n",
        "                                                        phase,\n",
        "                                                        epochAcc))\n",
        "      if phase == \"train\":\n",
        "        trainAccHistory.append(epochAcc)\n",
        "      else:\n",
        "        valAccHistory.append(epochAcc)\n",
        "\n",
        "      if phase == \"validation\" and epochAcc > bestAcc:\n",
        "        bestAcc = epochAcc\n",
        "        bestModelWts = copy.deepcopy(model.state_dict())\n",
        "      \n",
        "\n",
        "      \n",
        "\n",
        "  timeTaken = time.time() - start\n",
        "  print(\"training complete in {:.0f}m {:.0f}s\".format(timeTaken // 60,\n",
        "                                         timeTaken % 60))\n",
        "  \n",
        "  print(\"Best validation accuracy: {:4f}\".format(bestAcc))\n",
        "\n",
        "  model.load_state_dict(bestModelWts)\n",
        "\n",
        "  return model, trainAccHistory, valAccHistory\n",
        "\n",
        "\n"
      ],
      "execution_count": 32,
      "outputs": []
    },
    {
      "cell_type": "code",
      "metadata": {
        "id": "6Z75oym7A74n",
        "outputId": "b300461b-cf6c-4447-81be-d180362ea804",
        "colab": {
          "base_uri": "https://localhost:8080/"
        }
      },
      "source": [
        "criterion = nn.CrossEntropyLoss()\n",
        "\n",
        "modelFt, trainhist, valHist = trainModel(modelFt, trainData, criterion,\n",
        "                           optimizerFt, nEpochs = epochs,\n",
        "                           isInception = (modelName == \"inception\"))"
      ],
      "execution_count": 33,
      "outputs": [
        {
          "output_type": "stream",
          "text": [
            "Epoch 0/14\n",
            "----------\n",
            "train loss: 4.534700, train accuracy: 0.170806\n",
            "validation loss: 2.034903, validation accuracy: 0.653864\n",
            "Epoch 1/14\n",
            "----------\n",
            "train loss: 4.244231, train accuracy: 0.277648\n",
            "validation loss: 2.453505, validation accuracy: 0.666042\n",
            "Epoch 2/14\n",
            "----------\n",
            "train loss: 4.311552, train accuracy: 0.313964\n",
            "validation loss: 2.696318, validation accuracy: 0.675878\n",
            "Epoch 3/14\n",
            "----------\n",
            "train loss: 4.412449, train accuracy: 0.336692\n",
            "validation loss: 2.829746, validation accuracy: 0.688993\n",
            "Epoch 4/14\n",
            "----------\n",
            "train loss: 4.453139, train accuracy: 0.349930\n",
            "validation loss: 3.262480, validation accuracy: 0.678220\n",
            "Epoch 5/14\n",
            "----------\n",
            "train loss: 4.646470, train accuracy: 0.360005\n",
            "validation loss: 3.353479, validation accuracy: 0.671194\n",
            "Epoch 6/14\n",
            "----------\n",
            "train loss: 4.624108, train accuracy: 0.374297\n",
            "validation loss: 3.533420, validation accuracy: 0.678220\n",
            "Epoch 7/14\n",
            "----------\n",
            "train loss: 4.706920, train accuracy: 0.385309\n",
            "validation loss: 3.727799, validation accuracy: 0.680562\n",
            "Epoch 8/14\n",
            "----------\n",
            "train loss: 4.728217, train accuracy: 0.383669\n",
            "validation loss: 3.412237, validation accuracy: 0.701639\n",
            "Epoch 9/14\n",
            "----------\n",
            "train loss: 4.698238, train accuracy: 0.397610\n",
            "validation loss: 3.804730, validation accuracy: 0.690867\n",
            "Epoch 10/14\n",
            "----------\n",
            "train loss: 4.903597, train accuracy: 0.389058\n",
            "validation loss: 4.043499, validation accuracy: 0.687119\n",
            "Epoch 11/14\n",
            "----------\n",
            "train loss: 4.879042, train accuracy: 0.399250\n",
            "validation loss: 4.253483, validation accuracy: 0.678220\n",
            "Epoch 12/14\n",
            "----------\n",
            "train loss: 4.937258, train accuracy: 0.409091\n",
            "validation loss: 4.271898, validation accuracy: 0.677752\n",
            "Epoch 13/14\n",
            "----------\n",
            "train loss: 4.810304, train accuracy: 0.423032\n",
            "validation loss: 4.341027, validation accuracy: 0.686183\n",
            "Epoch 14/14\n",
            "----------\n",
            "train loss: 5.036590, train accuracy: 0.413543\n",
            "validation loss: 4.272021, validation accuracy: 0.693208\n",
            "training complete in 18m 14s\n",
            "Best validation accuracy: 0.701639\n"
          ],
          "name": "stdout"
        }
      ]
    },
    {
      "cell_type": "code",
      "metadata": {
        "id": "byfd6O6JvpeE",
        "outputId": "5a88d23b-fd50-4765-de0a-dfd536e61078",
        "colab": {
          "base_uri": "https://localhost:8080/",
          "height": 300
        }
      },
      "source": [
        "###\n",
        "tHist = [h.cpu().numpy() for h in trainhist]\n",
        "vHist = [h.cpu().numpy() for h in valHist]\n",
        "\n",
        "plt.xlabel(\"training epochs\")\n",
        "plt.ylabel(\"training accuracy\")\n",
        "plt.plot(range(1, epochs+1), tHist)\n",
        "plt.plot(range(1, epochs+1), vHist)\n",
        "plt.ylim((0, 1.))\n",
        "plt.legend()\n",
        "plt.show()"
      ],
      "execution_count": 42,
      "outputs": [
        {
          "output_type": "stream",
          "text": [
            "No handles with labels found to put in legend.\n"
          ],
          "name": "stderr"
        },
        {
          "output_type": "display_data",
          "data": {
            "image/png": "[encoded data removed]",
            "text/plain": [
              "<Figure size 432x288 with 1 Axes>"
            ]
          },
          "metadata": {
            "tags": [],
            "needs_background": "light"
          }
        }
      ]
    },
    {
      "cell_type": "code",
      "metadata": {
        "id": "2tCfmE94nWW7",
        "outputId": "a04a9a6b-a6fa-4919-d0ef-67648172ef93",
        "colab": {
          "base_uri": "https://localhost:8080/"
        }
      },
      "source": [
        "### model evaluation\n",
        "\n",
        "total = 0\n",
        "correct = 0\n",
        "\n",
        "with torch.no_grad():\n",
        "  modelFt.eval()\n",
        "  inputs = testImages\n",
        "  labels = testLabels\n",
        "  for i, input in enumerate(inputs):\n",
        "      input = input.to(device)\n",
        "      label = []\n",
        "      label.append(labels[i])\n",
        "      label = torch.tensor(np.array(label)).to(device)\n",
        "      output = modelFt(input)\n",
        "      _, predicted = torch.max(output, 1)\n",
        "      #print(\"Label:\", int(label[0]), \", Predicted:\", int(predicted[0]))\n",
        "      total += label.size(0)\n",
        "      correct += (predicted==label).sum().item()\n",
        "\n",
        "print(\"Testing accuracy: \", (correct/total) * 100)\n"
      ],
      "execution_count": 35,
      "outputs": [
        {
          "output_type": "stream",
          "text": [
            "Testing accuracy:  69.56686930091185\n"
          ],
          "name": "stdout"
        }
      ]
    },
    {
      "cell_type": "code",
      "metadata": {
        "id": "cwzKcoRGzjEp"
      },
      "source": [
        "### prediction \n",
        "predictPath = \"./Images/n02086240-Shih-Tzu/n02086240_1011.jpg\"\n",
        "\n",
        "def predictBreed(predictPath, model, mapping):\n",
        "  input = imageLoader(predictPath)\n",
        "  with torch.no_grad():\n",
        "    input = input.to(device)\n",
        "    output = model(input)\n",
        "    _, predicted = torch.max(output, 1)\n",
        "    predictedLabel = int(predicted[0])\n",
        "    predictedBreed = mapping[predictedLabel]\n",
        "\n",
        "  return predictedBreed\n",
        "\n",
        "predictBreed = predictBreed(predictPath, modelFt, mapping)\n",
        "\n"
      ],
      "execution_count": 38,
      "outputs": []
    },
    {
      "cell_type": "code",
      "metadata": {
        "id": "W_7kh-MAkY3y",
        "outputId": "b7a1c925-adb6-4331-e769-cec010acb08d",
        "colab": {
          "base_uri": "https://localhost:8080/"
        }
      },
      "source": [
        "print(predictBreed)"
      ],
      "execution_count": 39,
      "outputs": [
        {
          "output_type": "stream",
          "text": [
            "Tzu\n"
          ],
          "name": "stdout"
        }
      ]
    },
    {
      "cell_type": "code",
      "metadata": {
        "id": "mTmqfOTxkB7Z"
      },
      "source": [
        ""
      ],
      "execution_count": null,
      "outputs": []
    }
  ]
}